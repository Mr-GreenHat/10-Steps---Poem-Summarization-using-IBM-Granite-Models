{
  "nbformat": 4,
  "nbformat_minor": 0,
  "metadata": {
    "colab": {
      "provenance": []
    },
    "kernelspec": {
      "name": "python3",
      "display_name": "Python 3"
    },
    "language_info": {
      "name": "python"
    }
  },
  "cells": [
    {
      "cell_type": "markdown",
      "source": [],
      "metadata": {
        "id": "jUBis-mq052_"
      }
    },
    {
      "cell_type": "code",
      "metadata": {
        "id": "2972e740"
      },
      "source": [
        "!pip install -q langchain_community\n",
        "!pip install -q replicate"
      ],
      "execution_count": 41,
      "outputs": []
    },
    {
      "cell_type": "code",
      "source": [
        "from langchain_community.llms import Replicate\n",
        "import os\n",
        "from google.colab import userdata\n",
        "api_token = userdata.get('REPLICATE_API_TOKEN')\n",
        "os.environ[\"REPLICATE_API_TOKEN\"] = api_token\n",
        "model = \"ibm-granite/granite-3.3-8b-instruct\"\n",
        "output = Replicate(\n",
        "    model=model,\n",
        "    replicate_api_token=api_token,\n",
        ")"
      ],
      "metadata": {
        "id": "ESa3C-T2l3cL"
      },
      "execution_count": 42,
      "outputs": []
    },
    {
      "cell_type": "code",
      "source": [
        "import pandas as pd\n",
        "\n",
        "# Load CSV\n",
        "df = pd.read_csv(\"poemDatasetWithSummary.csv\")\n",
        "\n",
        "# Get the first poem's content\n",
        "poem_content = df.loc[0, \"Poem Content\"]\n",
        "\n",
        "# Get the first poem's summary\n",
        "poem_summary_truth = df.loc[0, \"jist\"]\n",
        "\n",
        "#print(poem_content)\n",
        "print(poem_summary_truth)\n"
      ],
      "metadata": {
        "id": "gEGlOgonvVRm",
        "colab": {
          "base_uri": "https://localhost:8080/"
        },
        "outputId": "8810a905-c0a5-4e7a-896d-4f18c340baec"
      },
      "execution_count": 5,
      "outputs": [
        {
          "output_type": "stream",
          "name": "stdout",
          "text": [
            "The poem is set in the rain-soaked woods of northern England. It is the story of a love affair between a man and a woman in the woods.\n"
          ]
        }
      ]
    },
    {
      "cell_type": "code",
      "source": [
        "prompt = f\"\"\"\n",
        "Summarize this poem:\n",
        "\n",
        "{poem_content}\n",
        "\"\"\"\n",
        "\n",
        "# Invoke the model with example prompt\n",
        "response = output.invoke(prompt)\n",
        "\n",
        "# Print the response\n",
        "print(\"Granite Model Response:\\n\")\n",
        "\n",
        "print(response, \"\\n\")\n",
        "\n",
        "#print the original summary\n",
        "print(\"Original Summary:\\n\")\n",
        "\n",
        "print(poem_summary_truth)"
      ],
      "metadata": {
        "colab": {
          "base_uri": "https://localhost:8080/"
        },
        "id": "HvPqCQm_kW3E",
        "outputId": "8b844460-e788-4a6b-c77c-cd640206894a"
      },
      "execution_count": 11,
      "outputs": [
        {
          "output_type": "stream",
          "name": "stdout",
          "text": [
            "Granite Model Response:\n",
            "\n",
            "This poem paints a vivid picture of a desolate landscape during a storm, with imagery of tattered clouds, forlorn roads, and wet flowers. The speaker invites their beloved to join them in this stormy, wild setting, contrasting the silence of nature with the intimacy of their shared love. The storm is likened to the return of something ancient and significant, symbolizing the rekindling of their love. The poem ultimately urges the beloved to embrace the storm and share in this profound, storm-drenched connection.\n",
            "Ground Truth:\n",
            "\n",
            "The poem is set in the rain-soaked woods of northern England. It is the story of a love affair between a man and a woman in the woods. \n",
            "\n"
          ]
        }
      ]
    },
    {
      "cell_type": "code",
      "source": [
        "refined_prompt = f\"\"\"\n",
        "Summarize this poem in two sentences:\n",
        "\n",
        "{poem_content}\n",
        "\"\"\"\n",
        "\n",
        "# Invoke the model with example prompt\n",
        "response = output.invoke(refined_prompt)\n",
        "\n",
        "# Print the response\n",
        "print(\"Granite Model Response:\\n\")\n",
        "\n",
        "print(response, \"\\n\")\n",
        "\n",
        "#print the original summary\n",
        "print(\"Original Summary:\\n\")\n",
        "\n",
        "print(poem_summary_truth)\n"
      ],
      "metadata": {
        "colab": {
          "base_uri": "https://localhost:8080/"
        },
        "id": "Zg09niwuliB_",
        "outputId": "1ac566bb-dcac-40e3-f200-13e8b65083ff"
      },
      "execution_count": 15,
      "outputs": [
        {
          "output_type": "stream",
          "name": "stdout",
          "text": [
            "Granite Model Response:\n",
            "\n",
            "This poem evokes a sense of desolation and longing, set against a backdrop of stormy weather and a forlorn landscape filled with wet stones and silent woods. The speaker invites their beloved to join them in this tempest, promising a shared experience of the rain's intensity, symbolizing a deep, enduring love that persists even amidst life's harsh elements. \n",
            "\n",
            "Ground Truth:\n",
            "\n",
            "The poem is set in the rain-soaked woods of northern England. It is the story of a love affair between a man and a woman in the woods.\n"
          ]
        }
      ]
    },
    {
      "cell_type": "code",
      "source": [
        "# Define the prompt with refined focus area prompt\n",
        "refined_focusarea_prompt = f\"\"\"\n",
        "Summarize this poem in two sentences, the first sentence focuses on the poem's setting, the second sentence focuses on the story\n",
        "\n",
        "{poem_content}\n",
        "\"\"\"\n",
        "\n",
        "# Invoke the model with example prompt\n",
        "response = output.invoke(refined_focusarea_prompt)\n",
        "\n",
        "# Print the response\n",
        "print(\"Granite Model Response:\\n\")\n",
        "\n",
        "print(response, \"\\n\")\n",
        "\n",
        "#print the original summary\n",
        "print(\"Original Summary:\\n\")\n",
        "\n",
        "print(poem_summary_truth)"
      ],
      "metadata": {
        "colab": {
          "base_uri": "https://localhost:8080/"
        },
        "id": "WTpgpC9mme_5",
        "outputId": "911061e2-c274-4042-a8e8-738d295d5c9d"
      },
      "execution_count": 14,
      "outputs": [
        {
          "output_type": "stream",
          "name": "stdout",
          "text": [
            "Granite Model Response:\n",
            "\n",
            "This poem is set in a desolate, rain-soaked landscape characterized by storm clouds, forlorn roads, and wet woods, where the usual sounds and sights of nature are muted. The narrator invites their beloved to join them in this tempestuous environment, symbolizing a resurgence of love that mirrors the return of the sea to ancient lands, despite the harsh conditions. \n",
            "\n",
            "Ground Truth:\n",
            "\n",
            "The poem is set in the rain-soaked woods of northern England. It is the story of a love affair between a man and a woman in the woods.\n"
          ]
        }
      ]
    },
    {
      "cell_type": "code",
      "source": [
        "# Define the prompt with refined output prompt\n",
        "refined_outputformat_prompt = f\"\"\"\n",
        "Summarize this poem into a structured format using the following\n",
        "headings: The poem's setting and the poem's story. Include only one sentence for each heading.\n",
        "For each sentence only include 7 words.\n",
        "\n",
        "1. Setting:\n",
        "\n",
        "2. Story:\n",
        "\n",
        "{poem_content}\n",
        "\"\"\"\n",
        "\n",
        "# Invoke the model with example prompt\n",
        "response = output.invoke(refined_outputformat_prompt)\n",
        "\n",
        "# Print the response\n",
        "print(\"Granite Model Response:\\n\")\n",
        "\n",
        "print(response, \"\\n\")\n",
        "\n",
        "#formatted ground truth\n",
        "parts = [part.strip() for part in poem_summary_truth.split('.') if part.strip()]\n",
        "\n",
        "formatted_poem_summary_truth = f\"Setting: {parts[0]}\\n\\nStory: {parts[1]}\"\n",
        "\n",
        "#print the original summary\n",
        "print(\"Original Summary:\\n\")\n",
        "\n",
        "print(formatted_poem_summary_truth)"
      ],
      "metadata": {
        "colab": {
          "base_uri": "https://localhost:8080/"
        },
        "id": "mQF_NiUenOeI",
        "outputId": "b2bf68ec-038c-426e-9190-8f8e9867224d"
      },
      "execution_count": 28,
      "outputs": [
        {
          "output_type": "stream",
          "name": "stdout",
          "text": [
            "Granite Model Response:\n",
            "\n",
            "1. Setting: Storm clouds, forlorn road, snowy quartz stones, wet woods, gale urging.\n",
            "2. Story: Speaker invites love into the storm, symbolizing love's resilience amid hardship. \n",
            "\n",
            "Ground Truth:\n",
            "\n",
            "Setting: The poem is set in the rain-soaked woods of northern England\n",
            "\n",
            "Story: It is the story of a love affair between a man and a woman in the woods\n"
          ]
        }
      ]
    },
    {
      "cell_type": "markdown",
      "source": [
        "2. Second Poem Summarization using steps from: https://www.myessaywriter.ai/blog/how-to-summarize-a-poem"
      ],
      "metadata": {
        "id": "9dTA3eIXqxf-"
      }
    },
    {
      "cell_type": "markdown",
      "source": [],
      "metadata": {
        "id": "rAcOo6CJnTav"
      }
    },
    {
      "cell_type": "code",
      "source": [
        "#2. Second Poem Summarization using steps from: https://www.myessaywriter.ai/blog/how-to-summarize-a-poem\n",
        "# 1-Write a One-Sentence Summary\n",
        "# 2-Explain Each Stanza Separately\n",
        "# 3-Highlight Key Words\n",
        "# 4-Use a Metaphor\n",
        "# 5-Incorporate Imagery\n",
        "# 6-Pose a Reflective Question\n",
        "# 7-Describe a Relevant Scenario\n",
        "# 8-Include a Key Quote\n",
        "# 9-Write a Comprehensive Summary\n",
        "# 10-Reference a Specific Line or Paragraph\n",
        "\n",
        "second_poem_content = \"\"\"\n",
        "Two roads diverged in a yellow wood,\n",
        "And sorry I could not travel both\n",
        "And be one traveler, long I stood\n",
        "And looked down one as far as I could\n",
        "To where it bent in the undergrowth;\n",
        "\n",
        "Then took the other, as just as fair,\n",
        "And having perhaps the better claim,\n",
        "Because it was grassy and wanted wear;\n",
        "Though as for that the passing there\n",
        "Had worn them really about the same,\n",
        "\n",
        "And both that morning equally lay\n",
        "In leaves no step had trodden black.\n",
        "Oh, I kept the first for another day!\n",
        "Yet knowing how way leads on to way,\n",
        "I doubted if I should ever come back.\n",
        "\n",
        "I shall be telling this with a sigh\n",
        "Somewhere ages and ages hence:\n",
        "Two roads diverged in a wood, and I—\n",
        "I took the one less traveled by,\n",
        "And that has made all the difference.\n",
        "\"\"\"\n",
        "\n",
        "\n",
        "second_poem_truth = \"\"\"\n",
        "In Robert Frost’s “The Road Not Taken,” the poet reflects on a pivotal moment of choice. The poem begins with the traveler encountering two diverging roads in a “yellow wood.” The traveler laments the inability to travel both paths and stands contemplating which to take. The roads appear equally traveled, but the traveler eventually chooses the one that seems “grassy and wanted wear,” believing it to be the better option, although he acknowledges that both roads are essentially similar.\n",
        "\n",
        "As the poem progresses, the traveler’s choice is framed with a sense of inevitable finality. The traveler recognizes that he may never return to explore the other road and reflects on how this decision might be perceived in the future. He anticipates telling the story of his choice “with a sigh” somewhere down the line, suggesting a mix of nostalgia and contemplation about how the choice defined his life.\n",
        "\n",
        "The poem uses vivid imagery, such as the “yellow wood” and “leaves no step had trodden black,” to create a detailed setting and convey the weight of the decision. The metaphor of the diverging roads serves as a broader reflection on the nature of life’s choices and their long-term impact. By choosing the road less traveled, the traveler symbolically opts for an unconventional path that ultimately shapes his future.\n",
        "\n",
        "The line “I took the one less traveled by, And that has made all the difference” encapsulates the poem’s theme, emphasizing how unique choices can define our lives. This choice, though seemingly minor in the moment, is portrayed as having a significant impact on the traveler’s journey and perspective.\n",
        "\n",
        "In summary, “The Road Not Taken” presents a thoughtful meditation on the choices we make and their lasting effects. Through its imagery and metaphor, the poem explores the profound significance of deciding between paths and the sense of reflection that accompanies such decisions.\n",
        "\"\"\""
      ],
      "metadata": {
        "id": "z4b3oUA1q-cv"
      },
      "execution_count": 61,
      "outputs": []
    },
    {
      "cell_type": "markdown",
      "source": [],
      "metadata": {
        "id": "5em3bzvVsk3G"
      }
    },
    {
      "cell_type": "code",
      "source": [
        "# Define the prompt with refined output prompt\n",
        "\n",
        "fullsteps_prompt = f\"\"\"\n",
        "Summarize this poem in all 10 steps,\n",
        "For each step no more than 2 sentences.\n",
        "\n",
        "# 1-Write a One-Sentence Summary:\n",
        "Summarize the entire poem in one sentence capturing its main idea or theme.\n",
        "\n",
        "# 2-Explain Each Stanza Separately:\n",
        "Write a sentence for each stanza explaining its meaning or main idea.\n",
        "\n",
        "# 3-Highlight Key Words:\n",
        "List significant words from the poem that reflect its main points or themes.\n",
        "\n",
        "# 4-Use a Metaphor:\n",
        "Provide a metaphor that encapsulates the poem’s theme or message.\n",
        "\n",
        "# 5-Incorporate Imagery:\n",
        "Include vivid imagery from the poem that conveys its scenes, emotions, or actions.\n",
        "\n",
        "# 6-Pose a Reflective Question:\n",
        "Ask a thought-provoking question related to the poem’s theme.\n",
        "\n",
        "# 7-Describe a Relevant Scenario:\n",
        "Briefly describe the event or situation in the poem that led to its message.\n",
        "\n",
        "# 8-Include a Key Quote:\n",
        "Select a significant quote from the poem that conveys its central idea.\n",
        "\n",
        "# 9-Write a Comprehensive Summary:\n",
        "Write a concise paragraph combining all elements to summarize the poem.\n",
        "\n",
        "# 10-Reference a Specific Line or Paragraph:\n",
        "End by referencing a specific line that highlights the poem’s central theme.\n",
        "\n",
        "\n",
        "{second_poem_content}\n",
        "\"\"\"\n",
        "\n",
        "# Call the model\n",
        "response = output.invoke(\n",
        "    fullsteps_prompt\n",
        ")\n",
        "\n",
        "# Print the response\n",
        "print(\"Granite Model Response:\\n\")\n",
        "\n",
        "print(response, \"\\n\\n\")\n",
        "\n",
        "# Print the original summary\n",
        "print(\"Original Summary:\\n\")\n",
        "\n",
        "print(second_poem_truth)\n"
      ],
      "metadata": {
        "colab": {
          "base_uri": "https://localhost:8080/"
        },
        "id": "h8hmB5skrIFV",
        "outputId": "64c633f3-1e97-470d-db6c-817dab835dbb"
      },
      "execution_count": 72,
      "outputs": [
        {
          "output_type": "stream",
          "name": "stdout",
          "text": [
            "Granite Model Response:\n",
            "\n",
            "1- One-Sentence Summary: The poem \"The Road Not Taken\" by Robert Frost explores the theme of choices and their lasting impact on one's life journey.\n",
            "\n",
            "2. Stanza 1: The speaker stands at a fork in the road, contemplating which path to choose, symbolizing a significant decision in life.\n",
            "\n",
            "3. Stanza 2: The speaker examines both roads, finding them equally worn, indicating they've been equally chosen by others, yet he must decide for himself.\n",
            "\n",
            "4. Metaphor: Life's choices are like diverging roads; each path represents a decision, and the one less traveled symbolizes the unconventional route chosen, shaping one's unique journey.\n",
            "\n",
            "5. Imagery: \"Yellow wood\" evokes autumn's change, symbolizing transition and the inevitability of moving forward, while \"undergrowth\" suggests hidden possibilities and uncertainties.\n",
            "\n",
            "6. Reflective Question: How do our choices define our individual paths, and to what extent do we regret the roads not taken?\n",
            "\n",
            "7. Scenario: The speaker encounters a crossroads in a yellow, autumnal forest, representing a pivotal moment where he must choose between two seemingly equal options.\n",
            "\n",
            "8. Key Quote: \"Two roads diverged in a wood, and I— / I took the one less traveled by, / And that has made all the difference.\" This quote encapsulates the poem's central theme of the significance of individual choices.\n",
            "\n",
            "9. Comprehensive Summary: In Robert Frost's \"The Road Not Taken,\" the speaker faces a critical decision at a divergent path in a yellow wood. He chooses the less-trodden route, symbolizing the pursuit of a unique life journey. Despite initial uncertainty, he reflects that this choice has profoundly shaped his life, suggesting that individual decisions can significantly impact one's destiny.\n",
            "\n",
            "10. Specific Line Reference: \"And that has made all the difference.\" (Last two lines) This line emphasizes the poem's core message that the choices we make, even seemingly minor ones, can have a lasting and transformative effect on our lives. \n",
            "\n",
            "\n",
            "Original Summary:\n",
            "\n",
            "\n",
            "In Robert Frost’s “The Road Not Taken,” the poet reflects on a pivotal moment of choice. The poem begins with the traveler encountering two diverging roads in a “yellow wood.” The traveler laments the inability to travel both paths and stands contemplating which to take. The roads appear equally traveled, but the traveler eventually chooses the one that seems “grassy and wanted wear,” believing it to be the better option, although he acknowledges that both roads are essentially similar.\n",
            "\n",
            "As the poem progresses, the traveler’s choice is framed with a sense of inevitable finality. The traveler recognizes that he may never return to explore the other road and reflects on how this decision might be perceived in the future. He anticipates telling the story of his choice “with a sigh” somewhere down the line, suggesting a mix of nostalgia and contemplation about how the choice defined his life.\n",
            "\n",
            "The poem uses vivid imagery, such as the “yellow wood” and “leaves no step had trodden black,” to create a detailed setting and convey the weight of the decision. The metaphor of the diverging roads serves as a broader reflection on the nature of life’s choices and their long-term impact. By choosing the road less traveled, the traveler symbolically opts for an unconventional path that ultimately shapes his future.\n",
            "\n",
            "The line “I took the one less traveled by, And that has made all the difference” encapsulates the poem’s theme, emphasizing how unique choices can define our lives. This choice, though seemingly minor in the moment, is portrayed as having a significant impact on the traveler’s journey and perspective.\n",
            "\n",
            "In summary, “The Road Not Taken” presents a thoughtful meditation on the choices we make and their lasting effects. Through its imagery and metaphor, the poem explores the profound significance of deciding between paths and the sense of reflection that accompanies such decisions.\n",
            "\n"
          ]
        }
      ]
    },
    {
      "cell_type": "code",
      "source": [
        "# Use the original dataset using the new steps from: https://www.myessaywriter.ai/blog/how-to-summarize-a-poem\n",
        "# Define the prompt with refined output prompt\n",
        "\n",
        "fullsteps_prompt = f\"\"\"\n",
        "Summarize this poem in all 10 steps,\n",
        "For each step no more than 2 sentences.\n",
        "\n",
        "# 1-Write a One-Sentence Summary:\n",
        "Summarize the entire poem in one sentence capturing its main idea or theme.\n",
        "\n",
        "# 2-Explain Each Stanza Separately:\n",
        "Write a sentence for each stanza explaining its meaning or main idea.\n",
        "\n",
        "# 3-Highlight Key Words:\n",
        "List significant words from the poem that reflect its main points or themes.\n",
        "\n",
        "# 4-Use a Metaphor:\n",
        "Provide a metaphor that encapsulates the poem’s theme or message.\n",
        "\n",
        "# 5-Incorporate Imagery:\n",
        "Include vivid imagery from the poem that conveys its scenes, emotions, or actions.\n",
        "\n",
        "# 6-Pose a Reflective Question:\n",
        "Ask a thought-provoking question related to the poem’s theme.\n",
        "\n",
        "# 7-Describe a Relevant Scenario:\n",
        "Briefly describe the event or situation in the poem that led to its message.\n",
        "\n",
        "# 8-Include a Key Quote:\n",
        "Select a significant quote from the poem that conveys its central idea.\n",
        "\n",
        "# 9-Write a Comprehensive Summary:\n",
        "Write a concise paragraph combining all elements to summarize the poem.\n",
        "\n",
        "# 10-Reference a Specific Line or Paragraph:\n",
        "End by referencing a specific line that highlights the poem’s central theme.\n",
        "\n",
        "\n",
        "{poem_content}\n",
        "\"\"\"\n",
        "\n",
        "# Call the model\n",
        "response = output.invoke(\n",
        "    fullsteps_prompt\n",
        ")\n",
        "\n",
        "# Print the response\n",
        "print(\"Granite Model Response:\\n\")\n",
        "\n",
        "print(response, \"\\n\\n\")\n",
        "\n",
        "# Print the original summary\n",
        "print(\"Original Summary:\\n\")\n",
        "\n",
        "print(poem_summary_truth)\n"
      ],
      "metadata": {
        "colab": {
          "base_uri": "https://localhost:8080/"
        },
        "id": "U4TRtWCI0bRX",
        "outputId": "899d5706-b521-4c76-8d47-d178c1b230e0"
      },
      "execution_count": 73,
      "outputs": [
        {
          "output_type": "stream",
          "name": "stdout",
          "text": [
            "Granite Model Response:\n",
            "\n",
            "1- One-Sentence Summary: The poem is an invitation to embrace a stormy, melancholic beauty in the wilderness as a symbol of enduring love, despite life's harshness.\n",
            "\n",
            "2. Stanza 1: The speaker describes a desolate, rain-soaked landscape dotted with quartz stones, emphasizing solitude and transience.\n",
            "\n",
            "3. Stanza 2: The speaker invites someone to share this forlorn beauty, finding solace and connection in the shared experience of the storm.\n",
            "\n",
            "4. Metaphor: Love in the storm is akin to a ship weathering a tempest, finding strength and intimacy amidst nature's raw power.\n",
            "\n",
            "5. Imagery: \"Storm clouds fly tattered and swift,\" \"hoof-prints vanish away,\" \"rain-fresh goldenrod,\" and \"whelming east wind\" evoke a vivid, untamed natural scene.\n",
            "\n",
            "6. Reflective Question: How can we transform life's harsh, transient moments into opportunities for deeper connection and understanding?\n",
            "\n",
            "7. Relevant Scenario: The speaker, walking a desolate path in the rain, recalls a past love lost and now seeks solace and reunion in the shared experience of the storm.\n",
            "\n",
            "8. Key Quote: \"Come over the hills and far with me, / And be my love in the rain.\" This line encapsulates the poem's central theme of finding love and connection amidst life's storms.\n",
            "\n",
            "9. Comprehensive Summary: The poem depicts a speaker traversing a lonely, rain-drenched landscape, reminiscing about lost love. They invite someone to join them, seeking solace and reconnection in the storm's raw beauty. The storm symbolizes life's hardships, yet also offers a chance for renewed, profound love. Key imagery includes tattered clouds, vanishing hoof-prints, and rain-soaked flora, emphasizing transience and resilience.\n",
            "\n",
            "10. Specific Line Reference: \"Oh, come forth into the storm and rout / And be my love in the rain.\" This line underscores the poem's central theme, urging the reader to embrace life's challenges with someone they \n",
            "\n",
            "\n",
            "Original Summary:\n",
            "\n",
            "The poem is set in the rain-soaked woods of northern England. It is the story of a love affair between a man and a woman in the woods.\n"
          ]
        }
      ]
    }
  ]
}